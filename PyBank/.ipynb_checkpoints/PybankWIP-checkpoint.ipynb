{
 "cells": [
  {
   "cell_type": "code",
   "execution_count": 1,
   "metadata": {},
   "outputs": [],
   "source": [
    "import os\n",
    "import csv"
   ]
  },
  {
   "cell_type": "code",
   "execution_count": 2,
   "metadata": {},
   "outputs": [],
   "source": [
    "csvpath = os.path.join(\"Resources\",\"budget_data.csv\")"
   ]
  },
  {
   "cell_type": "code",
   "execution_count": 57,
   "metadata": {},
   "outputs": [
    {
     "name": "stdout",
     "output_type": "stream",
     "text": [
      "Total Months: 86\n",
      "Net Profit: $38382578\n",
      "Greatest Increase in Profits: Feb-2017 ($1170593)\n",
      "Greatest Decrease in Profts: Feb-2017 ($-1196225)\n"
     ]
    }
   ],
   "source": [
    "total_months = []\n",
    "net_profit = []\n",
    "profit_change = []\n",
    "\n",
    "\n",
    "with open(csvpath, newline=\"\") as csvfile:\n",
    "    csvreader = csv.reader(csvfile,delimiter=',')\n",
    "    csv_header= next(csvfile)\n",
    "    \n",
    "    for row in csvreader:\n",
    "            total_months.append(row[0])\n",
    "            net_profit.append(int(row[1]))\n",
    "            #date.append(\n",
    "           \n",
    "    \n",
    "    print(\"Total Months: {}\".format(len(total_months)))\n",
    "    print(\"Net Profit: ${}\".format(sum(net_profit)))\n",
    "    #print(\"Average Change: {}\".format)\n",
    "    print(\"Greatest Increase in Profits: {} (${})\".format(row[0],max(net_profit)))\n",
    "    print(\"Greatest Decrease in Profts: {} (${})\".format(row[0],min(net_profit)))"
   ]
  },
  {
   "cell_type": "code",
   "execution_count": null,
   "metadata": {},
   "outputs": [],
   "source": []
  },
  {
   "cell_type": "code",
   "execution_count": null,
   "metadata": {},
   "outputs": [],
   "source": []
  }
 ],
 "metadata": {
  "kernelspec": {
   "display_name": "Python 3",
   "language": "python",
   "name": "python3"
  },
  "language_info": {
   "codemirror_mode": {
    "name": "ipython",
    "version": 3
   },
   "file_extension": ".py",
   "mimetype": "text/x-python",
   "name": "python",
   "nbconvert_exporter": "python",
   "pygments_lexer": "ipython3",
   "version": "3.7.3"
  }
 },
 "nbformat": 4,
 "nbformat_minor": 4
}
