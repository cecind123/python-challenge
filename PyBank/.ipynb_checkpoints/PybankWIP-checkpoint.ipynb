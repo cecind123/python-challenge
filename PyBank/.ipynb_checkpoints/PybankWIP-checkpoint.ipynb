{
 "cells": [
  {
   "cell_type": "code",
   "execution_count": 57,
   "metadata": {},
   "outputs": [],
   "source": [
    "import os\n",
    "import csv"
   ]
  },
  {
   "cell_type": "code",
   "execution_count": 58,
   "metadata": {},
   "outputs": [],
   "source": [
    "csvpath = os.path.join(\"budget_data.csv\")"
   ]
  },
  {
   "cell_type": "code",
   "execution_count": 66,
   "metadata": {},
   "outputs": [
    {
     "name": "stdout",
     "output_type": "stream",
     "text": [
      "Financial Analysis\n",
      "-----------------------------------\n",
      "Total Months: 86\n",
      "Net Profit: $38382578\n",
      "Average Change: -2315.12\n",
      "Greatest Increase in Profits: Feb-2012 ($1926159)\n",
      "Greatest Decrease in Profits: Sep-2013 ($-2196167)\n"
     ]
    }
   ],
   "source": [
    "total_months = []\n",
    "total_profit = []\n",
    "date = []\n",
    "monthly_profit_change = []\n",
    "\n",
    "with open(csvpath, newline=\"\") as csvfile:\n",
    "    csvreader = csv.reader(csvfile,delimiter=',')\n",
    "    csv_header= next(csvfile)\n",
    "\n",
    "    for row in csvreader:\n",
    "            total_months.append(row[0])\n",
    "            total_profit.append(int(row[1]))\n",
    "            \n",
    "            #Find Net Profit\n",
    "            net_profit = sum(total_profit)\n",
    "            date.append(row[0])\n",
    "            \n",
    "            #Find Date of Greatest Increase & Decrease\n",
    "            increase_date = total_profit.index(max(total_profit))\n",
    "            decrease_date = total_profit.index(min(total_profit))\n",
    "\n",
    "    for i in range(len(total_profit)-1):\n",
    "\n",
    "    #Find difference between two months\n",
    "            monthly_profit_change.append(total_profit[i+1]-total_profit[i])\n",
    "\n",
    "    #Print analysis\n",
    "    print(\"Financial Analysis\")\n",
    "    print(\"-----------------------------------\")\n",
    "    print(\"Total Months: {}\".format(len(total_months)))\n",
    "    print(\"Net Profit: ${}\".format(net_profit))\n",
    "    print(\"Average Change: {}\".format(round(sum(monthly_profit_change)/len(monthly_profit_change),2)))\n",
    "    print(\"Greatest Increase in Profits: {} (${})\".format((date[increase_date]),max(monthly_profit_change)))\n",
    "    print(\"Greatest Decrease in Profits: {} (${})\".format((date[decrease_date]),min(monthly_profit_change)))\n"
   ]
  },
  {
   "cell_type": "code",
   "execution_count": 67,
   "metadata": {},
   "outputs": [],
   "source": [
    "#Create txt file\n",
    "outpath = os.path.join(\"budget_analysis.txt\")\n",
    "\n",
    "#Write analysis into txt file\n",
    "with open(outpath, \"w\", newline=\"\") as datafile:\n",
    "    writer = csv.writer(datafile)\n",
    "    datafile.write(\"Financial Analysis\")\n",
    "    datafile.write(\"\\n\")\n",
    "    datafile.write(\"-----------------------------------\")\n",
    "    datafile.write(\"\\n\")\n",
    "    datafile.write(\"Total Months: {}\".format(len(total_months)))\n",
    "    datafile.write(\"\\n\")\n",
    "    datafile.write(\"Net Profit: ${}\".format(net_profit))\n",
    "    datafile.write(\"\\n\")\n",
    "    datafile.write(\"Average Change: {}\".format(round(sum(monthly_profit_change)/len(monthly_profit_change),2)))\n",
    "    datafile.write(\"\\n\")\n",
    "    datafile.write(\"Greatest Increase in Profits: {} (${})\".format((date[increase_date]),max(monthly_profit_change)))\n",
    "    datafile.write(\"\\n\")\n",
    "    datafile.write(\"Greatest Decrease in Profits: {} (${})\".format((date[decrease_date]),min(monthly_profit_change)))\n",
    "    "
   ]
  },
  {
   "cell_type": "code",
   "execution_count": null,
   "metadata": {},
   "outputs": [],
   "source": []
  }
 ],
 "metadata": {
  "kernelspec": {
   "display_name": "Python 3",
   "language": "python",
   "name": "python3"
  },
  "language_info": {
   "codemirror_mode": {
    "name": "ipython",
    "version": 3
   },
   "file_extension": ".py",
   "mimetype": "text/x-python",
   "name": "python",
   "nbconvert_exporter": "python",
   "pygments_lexer": "ipython3",
   "version": "3.7.3"
  }
 },
 "nbformat": 4,
 "nbformat_minor": 4
}
