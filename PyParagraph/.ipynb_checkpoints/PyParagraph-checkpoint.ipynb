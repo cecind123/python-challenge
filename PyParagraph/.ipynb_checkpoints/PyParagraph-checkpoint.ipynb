{
 "cells": [
  {
   "cell_type": "code",
   "execution_count": 12,
   "metadata": {},
   "outputs": [],
   "source": [
    "import os \n",
    "file = \"paragraph_3.txt\""
   ]
  },
  {
   "cell_type": "code",
   "execution_count": 13,
   "metadata": {},
   "outputs": [
    {
     "name": "stdout",
     "output_type": "stream",
     "text": [
      "Paragraph Analysis\n",
      "-------------------------\n",
      "Approximate Word Count: 130\n"
     ]
    }
   ],
   "source": [
    "word_count = 0\n",
    "sentence_count = []\n",
    "letter_count = []\n",
    "avg_sentence_length = []\n",
    "\n",
    "with open(file, \"r\") as txtfile:\n",
    "    \n",
    "    for line in txtfile:\n",
    "        words = line.split()\n",
    "        word_count += len(words)\n",
    "        \n",
    "print(\"Paragraph Analysis\")\n",
    "print(\"-------------------------\")\n",
    "print(\"Approximate Word Count: {}\".format(word_count))\n",
    "#print(\"Approximate Sentence Count: {}\".format())"
   ]
  },
  {
   "cell_type": "code",
   "execution_count": null,
   "metadata": {},
   "outputs": [],
   "source": []
  }
 ],
 "metadata": {
  "kernelspec": {
   "display_name": "Python 3",
   "language": "python",
   "name": "python3"
  },
  "language_info": {
   "codemirror_mode": {
    "name": "ipython",
    "version": 3
   },
   "file_extension": ".py",
   "mimetype": "text/x-python",
   "name": "python",
   "nbconvert_exporter": "python",
   "pygments_lexer": "ipython3",
   "version": "3.7.3"
  }
 },
 "nbformat": 4,
 "nbformat_minor": 4
}
