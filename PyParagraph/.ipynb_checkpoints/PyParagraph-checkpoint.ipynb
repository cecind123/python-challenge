{
 "cells": [
  {
   "cell_type": "code",
   "execution_count": 141,
   "metadata": {},
   "outputs": [],
   "source": [
    "#import dependencies and txt file (paragraph_1.txt or paragraph_2.txt or paragraph_3.txt)\n",
    "import os \n",
    "file = \"paragraph_3.txt\""
   ]
  },
  {
   "cell_type": "code",
   "execution_count": 144,
   "metadata": {},
   "outputs": [
    {
     "name": "stdout",
     "output_type": "stream",
     "text": [
      "Paragraph Analysis\n",
      "-------------------------\n",
      "Approximate Word Count: 120\n",
      "Approximate Sentence Count: 5\n",
      "Average Letter Count: 4.6\n",
      "Average Sentence Length: 24.0\n"
     ]
    }
   ],
   "source": [
    "#Create counters\n",
    "word_count = 0\n",
    "sentence_count = 0\n",
    "avg_letter_count = 0\n",
    "avg_sentence_length = 0\n",
    "\n",
    "#open file\n",
    "with open(file, \"r\") as txtfile:\n",
    "    \n",
    "    for line in txtfile:\n",
    "        words = line.split()\n",
    "        word_count += + len(words)\n",
    "        sentence_count += line.count('.') + line.count('!') + line.count('?')\n",
    "        avg_letter_count +=  (+ len(line)- line.count(\" \"))/ word_count\n",
    "        avg_sentence_length = word_count/sentence_count\n",
    "\n",
    "#Print results\n",
    "print(\"Paragraph Analysis\")\n",
    "print(\"-------------------------\")\n",
    "print(\"Approximate Word Count: {}\".format(word_count))\n",
    "print(\"Approximate Sentence Count: {}\".format(sentence_count))\n",
    "print(\"Average Letter Count: {:.1f}\".format(avg_letter_count))\n",
    "print(\"Average Sentence Length: {:.1f}\".format(avg_sentence_length))"
   ]
  },
  {
   "cell_type": "code",
   "execution_count": null,
   "metadata": {},
   "outputs": [],
   "source": []
  }
 ],
 "metadata": {
  "kernelspec": {
   "display_name": "Python 3",
   "language": "python",
   "name": "python3"
  },
  "language_info": {
   "codemirror_mode": {
    "name": "ipython",
    "version": 3
   },
   "file_extension": ".py",
   "mimetype": "text/x-python",
   "name": "python",
   "nbconvert_exporter": "python",
   "pygments_lexer": "ipython3",
   "version": "3.7.3"
  }
 },
 "nbformat": 4,
 "nbformat_minor": 4
}
