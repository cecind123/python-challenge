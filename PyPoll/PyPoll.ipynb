{
 "cells": [
  {
   "cell_type": "code",
   "execution_count": 1,
   "metadata": {},
   "outputs": [
    {
     "name": "stdout",
     "output_type": "stream",
     "text": [
      "Election Results\n",
      "---------------------------\n",
      "Total # of Votes: 3521001\n",
      "---------------------------\n",
      "Khan: 63.000% (2218231)\n",
      "Correy: 20.000% (704200)\n",
      "Li: 14.000% (492940)\n",
      "O'Tooley: 3.000% (105630)\n",
      "---------------------------\n",
      "Winner: Khan\n",
      "---------------------------\n"
     ]
    }
   ],
   "source": [
    "#import dependencies\n",
    "import os\n",
    "import csv\n",
    "\n",
    "#Specify csv file\n",
    "csvpath = os.path.join(\"election_data.csv\")\n",
    "\n",
    "#create lists\n",
    "total_votes = []\n",
    "candidates = []\n",
    "UniqueNames = []\n",
    "\n",
    "#open csv file \n",
    "with open(csvpath, newline=\"\") as csvfile:\n",
    "    csvreader = csv.reader(csvfile,delimiter=',')\n",
    "    csv_header= next(csvfile)\n",
    "    \n",
    "    #append the information into the lists created\n",
    "    for row in csvreader:\n",
    "            total_votes.append(row[0])\n",
    "            candidates.append(row[2])\n",
    "            \n",
    "            #identify unique names in the candidate list\n",
    "            if row[2] not in UniqueNames:\n",
    "                UniqueNames.append(row[2])\n",
    "            \n",
    "    #create a function that finds the candidate with the most votes    \n",
    "    def winner(candidates):\n",
    "            return max(set(candidates), key = candidates.count)\n",
    "    \n",
    "   #Print Results\n",
    "    print(\"Election Results\")\n",
    "    print(\"---------------------------\")\n",
    "    print(\"Total # of Votes: {}\".format(len(total_votes)))\n",
    "    print(\"---------------------------\")\n",
    "    for name in UniqueNames:\n",
    "        print(\"{}: {:.3f}% ({})\".format(name,(candidates.count(name)/len(total_votes))*100,candidates.count(name)))        \n",
    "    print(\"---------------------------\")\n",
    "    print(\"Winner: {}\".format(winner(candidates)))\n",
    "    print(\"---------------------------\")\n",
    "    \n",
    "    \n",
    "#Create txt file\n",
    "outpath = os.path.join(\"election_results.txt\")\n",
    "\n",
    "#Write analysis into txt file\n",
    "with open(outpath, \"w\", newline=\"\") as datafile:\n",
    "    writer = csv.writer(datafile)\n",
    "    datafile.write(\"Election Results\")\n",
    "    datafile.write(\"\\n\")\n",
    "    datafile.write(\"---------------------------\")\n",
    "    datafile.write(\"\\n\")\n",
    "    datafile.write(\"Total # of Votes: {}\".format(len(total_votes)))\n",
    "    datafile.write(\"\\n\")\n",
    "    datafile.write(\"---------------------------\")\n",
    "    datafile.write(\"\\n\")\n",
    "    for name in UniqueNames:\n",
    "        datafile.write(\"{}: {:.3f}% ({})\\n\".format(name,(candidates.count(name)/len(total_votes))*100,candidates.count(name)))\n",
    "    datafile.write(\"---------------------------\")\n",
    "    datafile.write(\"\\n\")\n",
    "    datafile.write(\"Winner: {}\".format(winner(candidates)))\n",
    "    datafile.write(\"\\n\")\n",
    "    datafile.write(\"---------------------------\")"
   ]
  }
 ],
 "metadata": {
  "kernelspec": {
   "display_name": "Python 3",
   "language": "python",
   "name": "python3"
  },
  "language_info": {
   "codemirror_mode": {
    "name": "ipython",
    "version": 3
   },
   "file_extension": ".py",
   "mimetype": "text/x-python",
   "name": "python",
   "nbconvert_exporter": "python",
   "pygments_lexer": "ipython3",
   "version": "3.7.3"
  }
 },
 "nbformat": 4,
 "nbformat_minor": 4
}
