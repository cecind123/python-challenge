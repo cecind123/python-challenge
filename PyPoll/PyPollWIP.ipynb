{
 "cells": [
  {
   "cell_type": "code",
   "execution_count": 5,
   "metadata": {},
   "outputs": [],
   "source": [
    "import os\n",
    "import csv"
   ]
  },
  {
   "cell_type": "code",
   "execution_count": 6,
   "metadata": {},
   "outputs": [],
   "source": [
    "csvpath = os.path.join(\"election_data.csv\")"
   ]
  },
  {
   "cell_type": "code",
   "execution_count": 24,
   "metadata": {},
   "outputs": [
    {
     "name": "stdout",
     "output_type": "stream",
     "text": [
      "Election Results\n",
      "---------------------------\n",
      "Total # of Votes: 3521001\n",
      "---------------------------\n",
      "Khan: 63.000% (2218231)\n",
      "Correy: 20.000% (704200)\n",
      "Li: 14.000% (492940)\n",
      "O'Tooley: 3.000% (105630)\n",
      "---------------------------\n",
      "Winner: Khan\n",
      "---------------------------\n"
     ]
    }
   ],
   "source": [
    "total_votes = []\n",
    "candidates = []\n",
    "\n",
    "\n",
    "with open(csvpath, newline=\"\") as csvfile:\n",
    "    csvreader = csv.reader(csvfile,delimiter=',')\n",
    "    csv_header= next(csvfile)\n",
    "    \n",
    "    for row in csvreader:\n",
    "            total_votes.append(row[0])\n",
    "            candidates.append(row[2])\n",
    "\n",
    "    def winner(candidates):\n",
    "        return max(set(candidates), key = candidates.count)\n",
    "    \n",
    "    print(\"Election Results\")\n",
    "    print(\"---------------------------\")\n",
    "    print(\"Total # of Votes: {}\".format(len(total_votes)))\n",
    "    print(\"---------------------------\")\n",
    "    print(\"Khan: {:.3f}% ({})\".format((candidates.count(\"Khan\")/len(total_votes))*100,candidates.count(\"Khan\")))    \n",
    "    print(\"Correy: {:.3f}% ({})\".format((candidates.count(\"Correy\")/len(total_votes))*100,candidates.count(\"Correy\")))\n",
    "    print(\"Li: {:.3f}% ({})\".format((candidates.count(\"Li\")/len(total_votes))*100,candidates.count(\"Li\")))\n",
    "    print(\"O'Tooley: {:.3f}% ({})\".format((candidates.count(\"O'Tooley\")/len(total_votes))*100,candidates.count(\"O'Tooley\")))\n",
    "    print(\"---------------------------\")\n",
    "    print(\"Winner: {}\".format(winner(candidates)))\n",
    "    print(\"---------------------------\")"
   ]
  },
  {
   "cell_type": "code",
   "execution_count": 26,
   "metadata": {},
   "outputs": [],
   "source": [
    "#Create txt file\n",
    "outpath = os.path.join(\"election_results.txt\")\n",
    "\n",
    "#Write analysis into txt file\n",
    "with open(outpath, \"w\", newline=\"\") as datafile:\n",
    "    writer = csv.writer(datafile)\n",
    "    datafile.write(\"Election Results\")\n",
    "    datafile.write(\"\\n\")\n",
    "    datafile.write(\"---------------------------\")\n",
    "    datafile.write(\"\\n\")\n",
    "    datafile.write(\"Total # of Votes: {}\".format(len(total_votes)))\n",
    "    datafile.write(\"\\n\")\n",
    "    datafile.write(\"---------------------------\")\n",
    "    datafile.write(\"\\n\")\n",
    "    datafile.write(\"Khan: {:.3f}% ({})\".format((candidates.count(\"Khan\")/len(total_votes))*100,candidates.count(\"Khan\")))    \n",
    "    datafile.write(\"\\n\")\n",
    "    datafile.write(\"Correy: {:.3f}% ({})\".format((candidates.count(\"Correy\")/len(total_votes))*100,candidates.count(\"Correy\")))\n",
    "    datafile.write(\"\\n\")\n",
    "    datafile.write(\"Li: {:.3f}% ({})\".format((candidates.count(\"Li\")/len(total_votes))*100,candidates.count(\"Li\")))\n",
    "    datafile.write(\"\\n\")\n",
    "    datafile.write(\"O'Tooley: {:.3f}% ({})\".format((candidates.count(\"O'Tooley\")/len(total_votes))*100,candidates.count(\"O'Tooley\")))\n",
    "    datafile.write(\"\\n\")\n",
    "    datafile.write(\"---------------------------\")\n",
    "    datafile.write(\"\\n\")\n",
    "    datafile.write(\"Winner: {}\".format(winner(candidates)))\n",
    "    datafile.write(\"\\n\")\n",
    "    datafile.write(\"---------------------------\")"
   ]
  },
  {
   "cell_type": "code",
   "execution_count": null,
   "metadata": {},
   "outputs": [],
   "source": []
  }
 ],
 "metadata": {
  "kernelspec": {
   "display_name": "Python 3",
   "language": "python",
   "name": "python3"
  },
  "language_info": {
   "codemirror_mode": {
    "name": "ipython",
    "version": 3
   },
   "file_extension": ".py",
   "mimetype": "text/x-python",
   "name": "python",
   "nbconvert_exporter": "python",
   "pygments_lexer": "ipython3",
   "version": "3.7.3"
  }
 },
 "nbformat": 4,
 "nbformat_minor": 4
}
